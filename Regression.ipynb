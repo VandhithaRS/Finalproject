{
 "cells": [
  {
   "cell_type": "code",
   "execution_count": 8,
   "metadata": {},
   "outputs": [],
   "source": [
    "import pandas as pd\n",
    "from sklearn.model_selection import train_test_split\n",
    "from sklearn.linear_model import LinearRegression\n",
    "from sklearn.svm import SVR\n",
    "from sklearn.metrics import mean_squared_error, mean_absolute_error"
   ]
  },
  {
   "cell_type": "code",
   "execution_count": 9,
   "metadata": {},
   "outputs": [],
   "source": [
    "train_df = pd.read_csv(\"p1_train.csv\", header=None)\n",
    "test_df = pd.read_csv(\"p1_test.csv\", header=None)\n",
    "\n",
    "train_df.columns = [''] * len(train_df.columns)\n",
    "test_df.columns = [''] * len(test_df.columns)"
   ]
  },
  {
   "cell_type": "code",
   "execution_count": 12,
   "metadata": {},
   "outputs": [],
   "source": [
    "X_train = train_df.iloc[:, :-1] \n",
    "y_train = train_df.iloc[:, -1]  \n",
    "\n",
    "X_test = test_df.iloc[:, :-1]    \n",
    "y_test = test_df.iloc[:, -1]"
   ]
  },
  {
   "cell_type": "code",
   "execution_count": 13,
   "metadata": {},
   "outputs": [],
   "source": [
    "\n",
    "linear_reg = LinearRegression()\n",
    "linear_reg.fit(X_train, y_train)\n",
    "\n",
    "svr = SVR()\n",
    "svr.fit(X_train, y_train)\n",
    "\n",
    "common_columns = X_train.columns.intersection(X_test.columns)\n",
    "X_test_filtered = X_test[common_columns]\n",
    "X_test_filtered = pd.DataFrame(X_test_filtered)"
   ]
  },
  {
   "cell_type": "code",
   "execution_count": 14,
   "metadata": {},
   "outputs": [],
   "source": [
    "y_pred_linear = linear_reg.predict(X_test_filtered)\n",
    "y_pred_svr = svr.predict(X_test_filtered)\n",
    "\n",
    "\n",
    "mse_linear = mean_squared_error(y_test, y_pred_linear)\n",
    "mae_linear = mean_absolute_error(y_test, y_pred_linear)\n",
    "\n",
    "mse_svr = mean_squared_error(y_test, y_pred_svr)\n",
    "mae_svr = mean_absolute_error(y_test, y_pred_svr)"
   ]
  },
  {
   "cell_type": "code",
   "execution_count": 16,
   "metadata": {},
   "outputs": [
    {
     "name": "stdout",
     "output_type": "stream",
     "text": [
      "Linear Regression:\n",
      "Mean Squared Error: 5.046436003951251\n",
      "Mean Absolute Error: 1.7990800530982611\n",
      "\n",
      "SVR:\n",
      "Mean Squared Error: 5.420148517932794\n",
      "Mean Absolute Error: 1.8571235007708717\n"
     ]
    }
   ],
   "source": [
    "print(\"Linear Regression:\")\n",
    "print(\"Mean Squared Error:\", mse_linear)\n",
    "print(\"Mean Absolute Error:\", mae_linear)\n",
    "print(\"\\nSVR:\")\n",
    "print(\"Mean Squared Error:\", mse_svr)\n",
    "print(\"Mean Absolute Error:\", mae_svr)"
   ]
  }
 ],
 "metadata": {
  "kernelspec": {
   "display_name": "venv",
   "language": "python",
   "name": "python3"
  },
  "language_info": {
   "codemirror_mode": {
    "name": "ipython",
    "version": 3
   },
   "file_extension": ".py",
   "mimetype": "text/x-python",
   "name": "python",
   "nbconvert_exporter": "python",
   "pygments_lexer": "ipython3",
   "version": "3.10.11"
  }
 },
 "nbformat": 4,
 "nbformat_minor": 2
}
